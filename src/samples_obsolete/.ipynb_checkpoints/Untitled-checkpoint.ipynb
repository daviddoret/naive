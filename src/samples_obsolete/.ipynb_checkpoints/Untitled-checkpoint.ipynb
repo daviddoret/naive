{
 "cells": [
  {
   "cell_type": "code",
   "execution_count": 1,
   "id": "a45a3a93",
   "metadata": {},
   "outputs": [
    {
     "name": "stdout",
     "output_type": "stream",
     "text": [
      "hello world\n"
     ]
    }
   ],
   "source": [
    "print('hello world')"
   ]
  },
  {
   "cell_type": "code",
   "execution_count": 2,
   "id": "213c9f7d",
   "metadata": {},
   "outputs": [
    {
     "name": "stdout",
     "output_type": "stream",
     "text": [
      "hello again\n"
     ]
    }
   ],
   "source": [
    "print('hello again')"
   ]
  },
  {
   "cell_type": "code",
   "execution_count": 1,
   "id": "cb725041",
   "metadata": {},
   "outputs": [
    {
     "data": {
      "text/plain": [
       "'C:\\\\Users\\\\david\\\\PycharmProjects\\\\naive\\\\samples'"
      ]
     },
     "execution_count": 1,
     "metadata": {},
     "output_type": "execute_result"
    }
   ],
   "source": [
    "import os\n",
    "import sys\n",
    "os.getcwd()"
   ]
  },
  {
   "cell_type": "code",
   "execution_count": 3,
   "id": "00b762d9",
   "metadata": {},
   "outputs": [],
   "source": [
    "os.chdir('C:\\\\Users\\\\david\\\\PycharmProjects\\\\naive')"
   ]
  },
  {
   "cell_type": "code",
   "execution_count": 4,
   "id": "c1ba7184",
   "metadata": {},
   "outputs": [],
   "source": [
    "import naive.type_library\n"
   ]
  },
  {
   "cell_type": "code",
   "execution_count": null,
   "id": "146beaac",
   "metadata": {},
   "outputs": [],
   "source": []
  }
 ],
 "metadata": {
  "kernelspec": {
   "display_name": "Python 3 (ipykernel)",
   "language": "python",
   "name": "python3"
  },
  "language_info": {
   "codemirror_mode": {
    "name": "ipython",
    "version": 3
   },
   "file_extension": ".py",
   "mimetype": "text/x-python",
   "name": "python",
   "nbconvert_exporter": "python",
   "pygments_lexer": "ipython3",
   "version": "3.10.5"
  }
 },
 "nbformat": 4,
 "nbformat_minor": 5
}
