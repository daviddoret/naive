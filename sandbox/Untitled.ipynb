{
 "cells": [
  {
   "cell_type": "code",
   "execution_count": 3,
   "id": "338497d4",
   "metadata": {},
   "outputs": [
    {
     "ename": "ModuleNotFoundError",
     "evalue": "No module named 'src'",
     "output_type": "error",
     "traceback": [
      "\u001b[1;31m---------------------------------------------------------------------------\u001b[0m",
      "\u001b[1;31mModuleNotFoundError\u001b[0m                       Traceback (most recent call last)",
      "Input \u001b[1;32mIn [3]\u001b[0m, in \u001b[0;36m<cell line: 1>\u001b[1;34m()\u001b[0m\n\u001b[1;32m----> 1\u001b[0m \u001b[38;5;28;01mimport\u001b[39;00m \u001b[38;5;21;01msrc\u001b[39;00m\u001b[38;5;21;01m.\u001b[39;00m\u001b[38;5;21;01mnaive\u001b[39;00m\n",
      "\u001b[1;31mModuleNotFoundError\u001b[0m: No module named 'src'"
     ]
    }
   ],
   "source": []
  },
  {
   "cell_type": "code",
   "execution_count": null,
   "id": "1c51237b",
   "metadata": {},
   "outputs": [],
   "source": [
    "python -m pip install git+https://github.com/django/django.git"
   ]
  },
  {
   "cell_type": "code",
   "execution_count": 4,
   "id": "c42bfc5a",
   "metadata": {},
   "outputs": [
    {
     "name": "stderr",
     "output_type": "stream",
     "text": [
      "'{sys.executable}' is not recognized as an internal or external command,\n",
      "operable program or batch file.\n"
     ]
    }
   ],
   "source": [
    "!{sys.executable} -m pip install git+https://github.com/naive/naive.git"
   ]
  },
  {
   "cell_type": "code",
   "execution_count": null,
   "id": "14fa5158",
   "metadata": {},
   "outputs": [],
   "source": [
    "!pip install git+https://github.com/naive/naive.git"
   ]
  },
  {
   "cell_type": "code",
   "execution_count": 1,
   "id": "c37d300e",
   "metadata": {},
   "outputs": [
    {
     "name": "stderr",
     "output_type": "stream",
     "text": [
      "'{sys.executable}' is not recognized as an internal or external command,\n",
      "operable program or batch file.\n"
     ]
    }
   ],
   "source": [
    "!{sys.executable} "
   ]
  },
  {
   "cell_type": "code",
   "execution_count": 2,
   "id": "b803b7f1",
   "metadata": {},
   "outputs": [
    {
     "name": "stdout",
     "output_type": "stream",
     "text": [
      "Collecting https://github.com/daviddoret/naive/raw/master/dist/naive-0.0.1.tar.gz\n",
      "  Using cached https://github.com/daviddoret/naive/raw/master/dist/naive-0.0.1.tar.gz (20 kB)\n",
      "  Installing build dependencies: started\n",
      "  Installing build dependencies: finished with status 'done'\n",
      "  Getting requirements to build wheel: started\n",
      "  Getting requirements to build wheel: finished with status 'done'\n",
      "  Installing backend dependencies: started\n",
      "  Installing backend dependencies: finished with status 'done'\n",
      "  Preparing metadata (pyproject.toml): started\n",
      "  Preparing metadata (pyproject.toml): finished with status 'done'\n",
      "Requirement already satisfied: textx in c:\\users\\david\\pycharmprojects\\naive\\naive_virtual_environment\\lib\\site-packages (from naive==0.0.1) (3.0.0)\n",
      "Requirement already satisfied: dataclasses in c:\\users\\david\\pycharmprojects\\naive\\naive_virtual_environment\\lib\\site-packages (from naive==0.0.1) (0.6)\n",
      "Requirement already satisfied: typing in c:\\users\\david\\pycharmprojects\\naive\\naive_virtual_environment\\lib\\site-packages (from naive==0.0.1) (3.7.4.3)\n",
      "Requirement already satisfied: future in c:\\users\\david\\pycharmprojects\\naive\\naive_virtual_environment\\lib\\site-packages (from textx->naive==0.0.1) (0.18.2)\n",
      "Requirement already satisfied: Arpeggio>=2.0.0 in c:\\users\\david\\pycharmprojects\\naive\\naive_virtual_environment\\lib\\site-packages (from textx->naive==0.0.1) (2.0.0)\n"
     ]
    }
   ],
   "source": [
    "!pip install https://github.com/daviddoret/naive/raw/master/dist/naive-0.0.1.tar.gz"
   ]
  },
  {
   "cell_type": "code",
   "execution_count": 3,
   "id": "13d32d63",
   "metadata": {},
   "outputs": [
    {
     "ename": "ModuleNotFoundError",
     "evalue": "No module named 'log'",
     "output_type": "error",
     "traceback": [
      "\u001b[1;31m---------------------------------------------------------------------------\u001b[0m",
      "\u001b[1;31mModuleNotFoundError\u001b[0m                       Traceback (most recent call last)",
      "Input \u001b[1;32mIn [3]\u001b[0m, in \u001b[0;36m<cell line: 1>\u001b[1;34m()\u001b[0m\n\u001b[1;32m----> 1\u001b[0m \u001b[38;5;28;01mimport\u001b[39;00m \u001b[38;5;21;01mnaive\u001b[39;00m\n",
      "File \u001b[1;32m~\\PycharmProjects\\naive\\naive_virtual_environment\\lib\\site-packages\\naive\\__init__.py:3\u001b[0m, in \u001b[0;36m<module>\u001b[1;34m\u001b[0m\n\u001b[0;32m      1\u001b[0m \u001b[38;5;28;01mfrom\u001b[39;00m \u001b[38;5;21;01m__future__\u001b[39;00m \u001b[38;5;28;01mimport\u001b[39;00m annotations\n\u001b[0;32m      2\u001b[0m \u001b[38;5;28;01mimport\u001b[39;00m \u001b[38;5;21;01mlogging\u001b[39;00m\n\u001b[1;32m----> 3\u001b[0m \u001b[38;5;28;01mimport\u001b[39;00m \u001b[38;5;21;01mlog\u001b[39;00m\n\u001b[0;32m      4\u001b[0m log\u001b[38;5;241m.\u001b[39minfo(\u001b[38;5;124m'\u001b[39m\u001b[38;5;124mNaive initialization started.\u001b[39m\u001b[38;5;124m'\u001b[39m)\n\u001b[0;32m      5\u001b[0m \u001b[38;5;28;01mimport\u001b[39;00m \u001b[38;5;21;01mimportlib\u001b[39;00m\u001b[38;5;21;01m.\u001b[39;00m\u001b[38;5;21;01mmetadata\u001b[39;00m\n",
      "\u001b[1;31mModuleNotFoundError\u001b[0m: No module named 'log'"
     ]
    }
   ],
   "source": [
    "import naive"
   ]
  },
  {
   "cell_type": "code",
   "execution_count": null,
   "id": "e688d87a",
   "metadata": {},
   "outputs": [],
   "source": []
  }
 ],
 "metadata": {
  "kernelspec": {
   "display_name": "Python 3 (ipykernel)",
   "language": "python",
   "name": "python3"
  },
  "language_info": {
   "codemirror_mode": {
    "name": "ipython",
    "version": 3
   },
   "file_extension": ".py",
   "mimetype": "text/x-python",
   "name": "python",
   "nbconvert_exporter": "python",
   "pygments_lexer": "ipython3",
   "version": "3.10.5"
  }
 },
 "nbformat": 4,
 "nbformat_minor": 5
}
