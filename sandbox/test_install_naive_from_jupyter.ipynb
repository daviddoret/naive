{
 "cells": [
  {
   "cell_type": "code",
   "execution_count": null,
   "id": "31aa8c70",
   "metadata": {},
   "outputs": [],
   "source": [
    "!pip uninstall naive"
   ]
  },
  {
   "cell_type": "code",
   "execution_count": 3,
   "id": "99022c1e",
   "metadata": {},
   "outputs": [
    {
     "name": "stdout",
     "output_type": "stream",
     "text": [
      "Processing c:\\users\\david\\pycharmprojects\\naive\\dist\\naive-0.0.2.tar.gz\n",
      "  Installing build dependencies: started\n",
      "  Installing build dependencies: finished with status 'done'\n",
      "  Getting requirements to build wheel: started\n",
      "  Getting requirements to build wheel: finished with status 'done'\n",
      "  Installing backend dependencies: started\n",
      "  Installing backend dependencies: finished with status 'done'\n",
      "  Preparing metadata (pyproject.toml): started\n",
      "  Preparing metadata (pyproject.toml): finished with status 'done'\n",
      "Requirement already satisfied: textx in c:\\users\\david\\pycharmprojects\\naive\\naive_virtual_environment\\lib\\site-packages (from naive==0.0.2) (3.0.0)\n",
      "Requirement already satisfied: dataclasses in c:\\users\\david\\pycharmprojects\\naive\\naive_virtual_environment\\lib\\site-packages (from naive==0.0.2) (0.6)\n",
      "Requirement already satisfied: typing in c:\\users\\david\\pycharmprojects\\naive\\naive_virtual_environment\\lib\\site-packages (from naive==0.0.2) (3.7.4.3)\n",
      "Requirement already satisfied: Arpeggio>=2.0.0 in c:\\users\\david\\pycharmprojects\\naive\\naive_virtual_environment\\lib\\site-packages (from textx->naive==0.0.2) (2.0.0)\n",
      "Requirement already satisfied: future in c:\\users\\david\\pycharmprojects\\naive\\naive_virtual_environment\\lib\\site-packages (from textx->naive==0.0.2) (0.18.2)\n",
      "Building wheels for collected packages: naive\n",
      "  Building wheel for naive (pyproject.toml): started\n",
      "  Building wheel for naive (pyproject.toml): finished with status 'done'\n",
      "  Created wheel for naive: filename=naive-0.0.2-py3-none-any.whl size=26345 sha256=92442b44521f57264c00686d22d5812d6c59c8cd5db99e24d9f10cfcceef6d8f\n",
      "  Stored in directory: c:\\users\\david\\appdata\\local\\pip\\cache\\wheels\\4b\\95\\0d\\a4e108fc8cb0e6135648139d14b6103af8990934a0652de306\n",
      "Successfully built naive\n",
      "Installing collected packages: naive\n",
      "  Attempting uninstall: naive\n",
      "    Found existing installation: naive 0.0.2\n",
      "    Uninstalling naive-0.0.2:\n",
      "      Successfully uninstalled naive-0.0.2\n",
      "Successfully installed naive-0.0.2\n"
     ]
    }
   ],
   "source": [
    "!pip install C:\\Users\\david\\PycharmProjects\\naive\\dist\\naive-0.0.2.tar.gz"
   ]
  },
  {
   "cell_type": "code",
   "execution_count": null,
   "id": "5009c468",
   "metadata": {},
   "outputs": [],
   "source": [
    "!pip install https://github.com/daviddoret/naive/raw/master/dist/naive-0.0.2.tar.gz"
   ]
  },
  {
   "cell_type": "code",
   "execution_count": 4,
   "id": "66cb8141",
   "metadata": {},
   "outputs": [
    {
     "name": "stderr",
     "output_type": "stream",
     "text": [
      "Default scope_key: scope_1 \n"
     ]
    }
   ],
   "source": [
    "import naive"
   ]
  },
  {
   "cell_type": "code",
   "execution_count": null,
   "id": "63603b6e",
   "metadata": {},
   "outputs": [],
   "source": [
    "import naive.core\n"
   ]
  },
  {
   "cell_type": "code",
   "execution_count": 5,
   "id": "2c403d76",
   "metadata": {},
   "outputs": [
    {
     "name": "stdout",
     "output_type": "stream",
     "text": [
      "Unexpected exception formatting exception. Falling back to standard exception\n"
     ]
    },
    {
     "name": "stderr",
     "output_type": "stream",
     "text": [
      "Traceback (most recent call last):\n",
      "  File \"C:\\Users\\david\\PycharmProjects\\naive\\naive_virtual_environment\\lib\\site-packages\\IPython\\core\\interactiveshell.py\", line 3398, in run_code\n",
      "    exec(code_obj, self.user_global_ns, self.user_ns)\n",
      "  File \"C:\\Users\\david\\AppData\\Local\\Temp\\ipykernel_5624\\2175385616.py\", line 1, in <cell line: 1>\n",
      "    naive.core.v('a')\n",
      "  File \"C:\\Users\\david\\PycharmProjects\\naive\\naive_virtual_environment\\lib\\site-packages\\naive\\core.py\", line 375, in v\n",
      "    return declare_variable(codomain, base_name, indexes)\n",
      "  File \"C:\\Users\\david\\PycharmProjects\\naive\\naive_virtual_environment\\lib\\site-packages\\naive\\core.py\", line 369, in declare_variable\n",
      "    naive.log.info(variable.represent_declaration())\n",
      "  File \"C:\\Users\\david\\PycharmProjects\\naive\\naive_virtual_environment\\lib\\site-packages\\naive\\core.py\", line 573, in represent_declaration\n",
      "    return f'With {self.represent(rformat)} ∈ {self.codomain.represent(rformat)}.'\n",
      "AttributeError: 'str' object has no attribute 'represent'\n",
      "\n",
      "During handling of the above exception, another exception occurred:\n",
      "\n",
      "Traceback (most recent call last):\n",
      "  File \"C:\\Users\\david\\PycharmProjects\\naive\\naive_virtual_environment\\lib\\site-packages\\IPython\\core\\interactiveshell.py\", line 1993, in showtraceback\n",
      "    stb = self.InteractiveTB.structured_traceback(\n",
      "  File \"C:\\Users\\david\\PycharmProjects\\naive\\naive_virtual_environment\\lib\\site-packages\\IPython\\core\\ultratb.py\", line 1118, in structured_traceback\n",
      "    return FormattedTB.structured_traceback(\n",
      "  File \"C:\\Users\\david\\PycharmProjects\\naive\\naive_virtual_environment\\lib\\site-packages\\IPython\\core\\ultratb.py\", line 1012, in structured_traceback\n",
      "    return VerboseTB.structured_traceback(\n",
      "  File \"C:\\Users\\david\\PycharmProjects\\naive\\naive_virtual_environment\\lib\\site-packages\\IPython\\core\\ultratb.py\", line 865, in structured_traceback\n",
      "    formatted_exception = self.format_exception_as_a_whole(etype, evalue, etb, number_of_lines_of_context,\n",
      "  File \"C:\\Users\\david\\PycharmProjects\\naive\\naive_virtual_environment\\lib\\site-packages\\IPython\\core\\ultratb.py\", line 818, in format_exception_as_a_whole\n",
      "    frames.append(self.format_record(r))\n",
      "  File \"C:\\Users\\david\\PycharmProjects\\naive\\naive_virtual_environment\\lib\\site-packages\\IPython\\core\\ultratb.py\", line 736, in format_record\n",
      "    result += ''.join(_format_traceback_lines(frame_info.lines, Colors, self.has_colors, lvals))\n",
      "  File \"C:\\Users\\david\\PycharmProjects\\naive\\naive_virtual_environment\\lib\\site-packages\\stack_data\\utils.py\", line 145, in cached_property_wrapper\n",
      "    value = obj.__dict__[self.func.__name__] = self.func(obj)\n",
      "  File \"C:\\Users\\david\\PycharmProjects\\naive\\naive_virtual_environment\\lib\\site-packages\\stack_data\\core.py\", line 698, in lines\n",
      "    pieces = self.included_pieces\n",
      "  File \"C:\\Users\\david\\PycharmProjects\\naive\\naive_virtual_environment\\lib\\site-packages\\stack_data\\utils.py\", line 145, in cached_property_wrapper\n",
      "    value = obj.__dict__[self.func.__name__] = self.func(obj)\n",
      "  File \"C:\\Users\\david\\PycharmProjects\\naive\\naive_virtual_environment\\lib\\site-packages\\stack_data\\core.py\", line 649, in included_pieces\n",
      "    pos = scope_pieces.index(self.executing_piece)\n",
      "  File \"C:\\Users\\david\\PycharmProjects\\naive\\naive_virtual_environment\\lib\\site-packages\\stack_data\\utils.py\", line 145, in cached_property_wrapper\n",
      "    value = obj.__dict__[self.func.__name__] = self.func(obj)\n",
      "  File \"C:\\Users\\david\\PycharmProjects\\naive\\naive_virtual_environment\\lib\\site-packages\\stack_data\\core.py\", line 628, in executing_piece\n",
      "    return only(\n",
      "  File \"C:\\Users\\david\\PycharmProjects\\naive\\naive_virtual_environment\\lib\\site-packages\\executing\\executing.py\", line 164, in only\n",
      "    raise NotOneValueFound('Expected one value, found 0')\n",
      "executing.executing.NotOneValueFound: Expected one value, found 0\n"
     ]
    }
   ],
   "source": [
    "naive.core.v('a')"
   ]
  },
  {
   "cell_type": "code",
   "execution_count": 6,
   "id": "554aa775",
   "metadata": {},
   "outputs": [
    {
     "name": "stderr",
     "output_type": "stream",
     "text": [
      "Default scope_key: hello \n"
     ]
    }
   ],
   "source": [
    "naive.core.set_default_scope('hello')"
   ]
  },
  {
   "cell_type": "code",
   "execution_count": 7,
   "id": "1d00ab22",
   "metadata": {},
   "outputs": [
    {
     "data": {
      "text/plain": [
       "'hello'"
      ]
     },
     "execution_count": 7,
     "metadata": {},
     "output_type": "execute_result"
    }
   ],
   "source": [
    "naive.core.get_default_scope()"
   ]
  },
  {
   "cell_type": "code",
   "execution_count": null,
   "id": "f8235b1c",
   "metadata": {},
   "outputs": [],
   "source": []
  }
 ],
 "metadata": {
  "kernelspec": {
   "display_name": "Python 3 (ipykernel)",
   "language": "python",
   "name": "python3"
  },
  "language_info": {
   "codemirror_mode": {
    "name": "ipython",
    "version": 3
   },
   "file_extension": ".py",
   "mimetype": "text/x-python",
   "name": "python",
   "nbconvert_exporter": "python",
   "pygments_lexer": "ipython3",
   "version": "3.10.5"
  }
 },
 "nbformat": 4,
 "nbformat_minor": 5
}
