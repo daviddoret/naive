{
 "cells": [
  {
   "cell_type": "code",
   "execution_count": null,
   "id": "31aa8c70",
   "metadata": {},
   "outputs": [],
   "source": [
    "!pip uninstall naive"
   ]
  },
  {
   "cell_type": "code",
   "execution_count": null,
   "id": "99022c1e",
   "metadata": {},
   "outputs": [],
   "source": [
    "!pip install C:\\Users\\david\\PycharmProjects\\naive\\dist\\naive-0.0.2.tar.gz"
   ]
  },
  {
   "cell_type": "code",
   "execution_count": null,
   "id": "5009c468",
   "metadata": {},
   "outputs": [],
   "source": [
    "!pip install https://github.com/daviddoret/naive/raw/master/dist/naive-0.0.2.tar.gz"
   ]
  },
  {
   "cell_type": "code",
   "execution_count": null,
   "id": "66cb8141",
   "metadata": {},
   "outputs": [],
   "source": [
    "import naive"
   ]
  },
  {
   "cell_type": "code",
   "execution_count": null,
   "id": "63603b6e",
   "metadata": {},
   "outputs": [],
   "source": [
    "import naive.core\n"
   ]
  },
  {
   "cell_type": "code",
   "execution_count": null,
   "id": "2c403d76",
   "metadata": {},
   "outputs": [],
   "source": []
  }
 ],
 "metadata": {
  "kernelspec": {
   "display_name": "Python 3 (ipykernel)",
   "language": "python",
   "name": "python3"
  },
  "language_info": {
   "codemirror_mode": {
    "name": "ipython",
    "version": 3
   },
   "file_extension": ".py",
   "mimetype": "text/x-python",
   "name": "python",
   "nbconvert_exporter": "python",
   "pygments_lexer": "ipython3",
   "version": "3.10.5"
  }
 },
 "nbformat": 4,
 "nbformat_minor": 5
}
