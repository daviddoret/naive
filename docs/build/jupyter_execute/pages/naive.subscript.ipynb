{
 "cells": [
  {
   "cell_type": "code",
   "execution_count": 1,
   "id": "02df6562",
   "metadata": {
    "execution": {
     "iopub.execute_input": "2022-07-02T17:48:45.002559Z",
     "iopub.status.busy": "2022-07-02T17:48:45.002559Z",
     "iopub.status.idle": "2022-07-02T17:48:45.049900Z",
     "shell.execute_reply": "2022-07-02T17:48:45.049900Z"
    }
   },
   "outputs": [
    {
     "name": "stdout",
     "output_type": "stream",
     "text": [
      "Indexed math variables look beautiful with subscript: x₁, x₂, x₃\n"
     ]
    }
   ],
   "source": [
    "import naive\n",
    "s = 'Indexed math variables look beautiful with subscript: x1, x2, x3'\n",
    "s_prime = naive.subscript(s)\n",
    "print(s_prime)"
   ]
  }
 ],
 "metadata": {
  "kernelspec": {
   "display_name": "Python 3 (ipykernel)",
   "language": "python",
   "name": "python3"
  },
  "language_info": {
   "codemirror_mode": {
    "name": "ipython",
    "version": 3
   },
   "file_extension": ".py",
   "mimetype": "text/x-python",
   "name": "python",
   "nbconvert_exporter": "python",
   "pygments_lexer": "ipython3",
   "version": "3.10.5"
  }
 },
 "nbformat": 4,
 "nbformat_minor": 5
}