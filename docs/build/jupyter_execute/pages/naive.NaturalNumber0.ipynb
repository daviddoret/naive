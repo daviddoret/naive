{
 "cells": [
  {
   "cell_type": "code",
   "execution_count": 1,
   "id": "432cdf11",
   "metadata": {
    "execution": {
     "iopub.execute_input": "2022-07-03T07:18:36.748679Z",
     "iopub.status.busy": "2022-07-03T07:18:36.748679Z",
     "iopub.status.idle": "2022-07-03T07:18:36.811722Z",
     "shell.execute_reply": "2022-07-03T07:18:36.811722Z"
    }
   },
   "outputs": [
    {
     "name": "stdout",
     "output_type": "stream",
     "text": [
      "<class 'naive.natural_number_0.NaturalNumber0'>\n",
      "17\n"
     ]
    }
   ],
   "source": [
    "import naive\n",
    "n = naive.NN0(17)\n",
    "print(type(n))\n",
    "print(n)"
   ]
  }
 ],
 "metadata": {
  "kernelspec": {
   "display_name": "Python 3 (ipykernel)",
   "language": "python",
   "name": "python3"
  },
  "language_info": {
   "codemirror_mode": {
    "name": "ipython",
    "version": 3
   },
   "file_extension": ".py",
   "mimetype": "text/x-python",
   "name": "python",
   "nbconvert_exporter": "python",
   "pygments_lexer": "ipython3",
   "version": "3.10.5"
  }
 },
 "nbformat": 4,
 "nbformat_minor": 5
}