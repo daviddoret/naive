{
 "cells": [
  {
   "cell_type": "code",
   "execution_count": 1,
   "id": "76ea8902",
   "metadata": {
    "execution": {
     "iopub.execute_input": "2022-07-03T07:18:39.215946Z",
     "iopub.status.busy": "2022-07-03T07:18:39.215946Z",
     "iopub.status.idle": "2022-07-03T07:18:39.283564Z",
     "shell.execute_reply": "2022-07-03T07:18:39.283564Z"
    }
   },
   "outputs": [
    {
     "name": "stdout",
     "output_type": "stream",
     "text": [
      "<class 'naive.natural_number_0.NaturalNumber0'>\n",
      "5\n"
     ]
    },
    {
     "name": "stderr",
     "output_type": "stream",
     "text": [
      "c:\\users\\david\\pycharmprojects\\naive\\src\\naive\\coerce.py:53: UserWarning: Object \"5 of type <class 'str'> coerced to \"5\" of type <class 'int'>.\n",
      "  coerced_o = cls(o)\n",
      "C:\\Users\\david\\AppData\\Local\\Temp\\ipykernel_16356\\1147406051.py:3: CoercionWarning: Object \"5\" of type <class 'str'> was coerced to object \"5\" of type <class 'naive.natural_number_0.NaturalNumber0'>.\n",
      "  n_prime = naive.coerce(n, naive.NN0)\n",
      "c:\\users\\david\\pycharmprojects\\naive\\src\\naive\\coerce.py:58: UserWarning: Object \"5 of type <class 'str'> coerced to \"5\" of type <class 'int'>.\n",
      "  return cls(o)\n"
     ]
    }
   ],
   "source": [
    "import naive\n",
    "n = \"5\"\n",
    "n_prime = naive.coerce(n, naive.NN0)\n",
    "print(type(n_prime))\n",
    "print(n_prime)"
   ]
  }
 ],
 "metadata": {
  "kernelspec": {
   "display_name": "Python 3 (ipykernel)",
   "language": "python",
   "name": "python3"
  },
  "language_info": {
   "codemirror_mode": {
    "name": "ipython",
    "version": 3
   },
   "file_extension": ".py",
   "mimetype": "text/x-python",
   "name": "python",
   "nbconvert_exporter": "python",
   "pygments_lexer": "ipython3",
   "version": "3.10.5"
  }
 },
 "nbformat": 4,
 "nbformat_minor": 5
}