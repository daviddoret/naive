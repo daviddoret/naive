{
 "cells": [
  {
   "cell_type": "code",
   "execution_count": 1,
   "id": "45a632dc",
   "metadata": {
    "execution": {
     "iopub.execute_input": "2022-07-05T22:34:01.267000Z",
     "iopub.status.busy": "2022-07-05T22:34:01.266459Z",
     "iopub.status.idle": "2022-07-05T22:34:01.314054Z",
     "shell.execute_reply": "2022-07-05T22:34:01.314054Z"
    }
   },
   "outputs": [
    {
     "name": "stdout",
     "output_type": "stream",
     "text": [
      "5\n"
     ]
    }
   ],
   "source": [
    "# import naive\n",
    "n = \"5\"\n",
    "print(n)\n",
    "#n_prime = naive.coerce(n, naive.NN0)\n",
    "#print(type(n_prime))\n",
    "#print(n_prime)"
   ]
  }
 ],
 "metadata": {
  "kernelspec": {
   "display_name": "Python 3 (ipykernel)",
   "language": "python",
   "name": "python3"
  },
  "language_info": {
   "codemirror_mode": {
    "name": "ipython",
    "version": 3
   },
   "file_extension": ".py",
   "mimetype": "text/x-python",
   "name": "python",
   "nbconvert_exporter": "python",
   "pygments_lexer": "ipython3",
   "version": "3.10.5"
  }
 },
 "nbformat": 4,
 "nbformat_minor": 5
}