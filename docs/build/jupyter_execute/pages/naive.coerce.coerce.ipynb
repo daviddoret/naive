{
 "cells": [
  {
   "cell_type": "code",
   "execution_count": 1,
   "id": "ead327bf",
   "metadata": {
    "execution": {
     "iopub.execute_input": "2022-07-05T22:11:21.264308Z",
     "iopub.status.busy": "2022-07-05T22:11:21.264308Z",
     "iopub.status.idle": "2022-07-05T22:11:21.311541Z",
     "shell.execute_reply": "2022-07-05T22:11:21.311541Z"
    }
   },
   "outputs": [
    {
     "name": "stdout",
     "output_type": "stream",
     "text": [
      "5\n"
     ]
    }
   ],
   "source": [
    "# import naive\n",
    "n = \"5\"\n",
    "print(n)\n",
    "#n_prime = naive.coerce(n, naive.NN0)\n",
    "#print(type(n_prime))\n",
    "#print(n_prime)"
   ]
  }
 ],
 "metadata": {
  "kernelspec": {
   "display_name": "Python 3 (ipykernel)",
   "language": "python",
   "name": "python3"
  },
  "language_info": {
   "codemirror_mode": {
    "name": "ipython",
    "version": 3
   },
   "file_extension": ".py",
   "mimetype": "text/x-python",
   "name": "python",
   "nbconvert_exporter": "python",
   "pygments_lexer": "ipython3",
   "version": "3.10.5"
  }
 },
 "nbformat": 4,
 "nbformat_minor": 5
}