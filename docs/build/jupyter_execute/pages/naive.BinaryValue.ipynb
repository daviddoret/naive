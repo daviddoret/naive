{
 "cells": [
  {
   "cell_type": "code",
   "execution_count": 1,
   "id": "38a87d70",
   "metadata": {
    "execution": {
     "iopub.execute_input": "2022-07-02T22:08:04.944384Z",
     "iopub.status.busy": "2022-07-02T22:08:04.944384Z",
     "iopub.status.idle": "2022-07-02T22:08:05.007456Z",
     "shell.execute_reply": "2022-07-02T22:08:05.007456Z"
    }
   },
   "outputs": [
    {
     "name": "stdout",
     "output_type": "stream",
     "text": [
      "<class 'naive.binary_value.BinaryValue'>\n",
      "<naive.binary_value.BinaryValue object at 0x000002A79F321FC0>\n"
     ]
    }
   ],
   "source": [
    "import naive\n",
    "b = naive.BV(False)\n",
    "print(type(b))\n",
    "print(b)"
   ]
  },
  {
   "cell_type": "code",
   "execution_count": 2,
   "id": "c1f69d1e",
   "metadata": {
    "execution": {
     "iopub.execute_input": "2022-07-02T22:08:05.007456Z",
     "iopub.status.busy": "2022-07-02T22:08:05.007456Z",
     "iopub.status.idle": "2022-07-02T22:08:05.022848Z",
     "shell.execute_reply": "2022-07-02T22:08:05.022848Z"
    }
   },
   "outputs": [
    {
     "name": "stdout",
     "output_type": "stream",
     "text": [
      "<class 'naive.binary_value.BinaryValue'>\n",
      "<naive.binary_value.BinaryValue object at 0x000002A79F321AE0>\n"
     ]
    }
   ],
   "source": [
    "import naive\n",
    "b = naive.BV(False)\n",
    "print(type(b))\n",
    "print(b)"
   ]
  }
 ],
 "metadata": {
  "kernelspec": {
   "display_name": "Python 3 (ipykernel)",
   "language": "python",
   "name": "python3"
  },
  "language_info": {
   "codemirror_mode": {
    "name": "ipython",
    "version": 3
   },
   "file_extension": ".py",
   "mimetype": "text/x-python",
   "name": "python",
   "nbconvert_exporter": "python",
   "pygments_lexer": "ipython3",
   "version": "3.10.5"
  }
 },
 "nbformat": 4,
 "nbformat_minor": 5
}