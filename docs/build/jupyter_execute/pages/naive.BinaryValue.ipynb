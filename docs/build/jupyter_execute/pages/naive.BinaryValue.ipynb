{
 "cells": [
  {
   "cell_type": "code",
   "execution_count": 1,
   "id": "f0741334",
   "metadata": {
    "execution": {
     "iopub.execute_input": "2022-07-03T07:18:34.096336Z",
     "iopub.status.busy": "2022-07-03T07:18:34.080716Z",
     "iopub.status.idle": "2022-07-03T07:18:34.143203Z",
     "shell.execute_reply": "2022-07-03T07:18:34.143203Z"
    }
   },
   "outputs": [
    {
     "name": "stdout",
     "output_type": "stream",
     "text": [
      "(b1 = b2) = (<naive.binary_value.BinaryValue object at 0x0000029B5AA01420> = <naive.binary_value.BinaryValue object at 0x0000029B5AA002B0>) = False\n",
      "(b1 = b2) = (<naive.binary_value.BinaryValue object at 0x0000029B5AA01420> = <naive.binary_value.BinaryValue object at 0x0000029B5AA002B0>) = False\n"
     ]
    }
   ],
   "source": [
    "import naive\n",
    "b1 = naive.BV(False)\n",
    "b2 = naive.BV(True)\n",
    "print(f'(b1 = b2) = ({b1} = {b2}) = {b1 == b2}')\n",
    "b2.bool = True\n",
    "print(f'(b1 = b2) = ({b1} = {b2}) = {b1 == b2}')"
   ]
  }
 ],
 "metadata": {
  "kernelspec": {
   "display_name": "Python 3 (ipykernel)",
   "language": "python",
   "name": "python3"
  },
  "language_info": {
   "codemirror_mode": {
    "name": "ipython",
    "version": 3
   },
   "file_extension": ".py",
   "mimetype": "text/x-python",
   "name": "python",
   "nbconvert_exporter": "python",
   "pygments_lexer": "ipython3",
   "version": "3.10.5"
  }
 },
 "nbformat": 4,
 "nbformat_minor": 5
}