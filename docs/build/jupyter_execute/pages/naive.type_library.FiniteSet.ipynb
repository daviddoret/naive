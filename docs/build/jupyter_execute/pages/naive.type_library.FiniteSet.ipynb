{
 "cells": [
  {
   "cell_type": "code",
   "execution_count": 1,
   "id": "94affa9c",
   "metadata": {
    "execution": {
     "iopub.execute_input": "2022-07-01T11:07:33.956939Z",
     "iopub.status.busy": "2022-07-01T11:07:33.954938Z",
     "iopub.status.idle": "2022-07-01T11:07:34.165273Z",
     "shell.execute_reply": "2022-07-01T11:07:34.164325Z"
    }
   },
   "outputs": [
    {
     "name": "stdout",
     "output_type": "stream",
     "text": [
      "hello\n"
     ]
    }
   ],
   "source": [
    "import naive.type_library as tl\n",
    "o = tl.Element('hello')\n",
    "print(o)"
   ]
  }
 ],
 "metadata": {
  "kernelspec": {
   "display_name": "Python 3 (ipykernel)",
   "language": "python",
   "name": "python3"
  },
  "language_info": {
   "codemirror_mode": {
    "name": "ipython",
    "version": 3
   },
   "file_extension": ".py",
   "mimetype": "text/x-python",
   "name": "python",
   "nbconvert_exporter": "python",
   "pygments_lexer": "ipython3",
   "version": "3.10.5"
  }
 },
 "nbformat": 4,
 "nbformat_minor": 5
}