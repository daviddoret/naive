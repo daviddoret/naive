{
 "cells": [
  {
   "cell_type": "code",
   "execution_count": 1,
   "id": "afeeb181",
   "metadata": {
    "execution": {
     "iopub.execute_input": "2022-07-01T10:49:17.558480Z",
     "iopub.status.busy": "2022-07-01T10:49:17.558480Z",
     "iopub.status.idle": "2022-07-01T10:49:17.761692Z",
     "shell.execute_reply": "2022-07-01T10:49:17.761692Z"
    }
   },
   "outputs": [
    {
     "name": "stdout",
     "output_type": "stream",
     "text": [
      "hello\n"
     ]
    }
   ],
   "source": [
    "import naive.type_library as tl\n",
    "o = tl.Element('hello')\n",
    "print(o)"
   ]
  }
 ],
 "metadata": {
  "kernelspec": {
   "display_name": "Python 3 (ipykernel)",
   "language": "python",
   "name": "python3"
  },
  "language_info": {
   "codemirror_mode": {
    "name": "ipython",
    "version": 3
   },
   "file_extension": ".py",
   "mimetype": "text/x-python",
   "name": "python",
   "nbconvert_exporter": "python",
   "pygments_lexer": "ipython3",
   "version": "3.10.5"
  }
 },
 "nbformat": 4,
 "nbformat_minor": 5
}