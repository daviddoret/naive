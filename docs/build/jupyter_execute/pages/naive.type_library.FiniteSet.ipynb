{
 "cells": [
  {
   "cell_type": "code",
   "execution_count": 1,
   "id": "8dae037d",
   "metadata": {
    "execution": {
     "iopub.execute_input": "2022-06-30T22:50:41.549273Z",
     "iopub.status.busy": "2022-06-30T22:50:41.549273Z",
     "iopub.status.idle": "2022-06-30T22:50:41.736705Z",
     "shell.execute_reply": "2022-06-30T22:50:41.736705Z"
    }
   },
   "outputs": [
    {
     "name": "stdout",
     "output_type": "stream",
     "text": [
      "sys.path: ['C:\\\\Users\\\\david\\\\PycharmProjects\\\\naive\\\\docs', 'C:\\\\Users\\\\david\\\\PycharmProjects\\\\naive:', 'C:\\\\Program Files\\\\Python310\\\\python310.zip', 'C:\\\\Program Files\\\\Python310\\\\DLLs', 'C:\\\\Program Files\\\\Python310\\\\lib', 'C:\\\\Program Files\\\\Python310', 'C:\\\\Users\\\\david\\\\PycharmProjects\\\\naive\\\\venv', '', 'C:\\\\Users\\\\david\\\\PycharmProjects\\\\naive\\\\venv\\\\lib\\\\site-packages', 'C:\\\\Users\\\\david\\\\PycharmProjects\\\\naive\\\\venv\\\\lib\\\\site-packages\\\\win32', 'C:\\\\Users\\\\david\\\\PycharmProjects\\\\naive\\\\venv\\\\lib\\\\site-packages\\\\win32\\\\lib', 'C:\\\\Users\\\\david\\\\PycharmProjects\\\\naive\\\\venv\\\\lib\\\\site-packages\\\\Pythonwin']\n",
      "os.getcwd(): C:\\Users\\david\\PycharmProjects\\naive\\docs\n",
      "hello xxx world\n"
     ]
    }
   ],
   "source": [
    "import sys\n",
    "import os\n",
    "#o = tl.Element('hello')\n",
    "#print(o)\n",
    "print(f'sys.path: {sys.path}')\n",
    "print(f'os.getcwd(): {os.getcwd()}')\n",
    "print('hello xxx world')\n",
    "import naive.type_library as tl"
   ]
  }
 ],
 "metadata": {
  "kernelspec": {
   "display_name": "Python 3 (ipykernel)",
   "language": "python",
   "name": "python3"
  },
  "language_info": {
   "codemirror_mode": {
    "name": "ipython",
    "version": 3
   },
   "file_extension": ".py",
   "mimetype": "text/x-python",
   "name": "python",
   "nbconvert_exporter": "python",
   "pygments_lexer": "ipython3",
   "version": "3.10.5"
  }
 },
 "nbformat": 4,
 "nbformat_minor": 5
}