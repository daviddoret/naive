{
 "cells": [
  {
   "cell_type": "code",
   "execution_count": 1,
   "id": "01f0cf73",
   "metadata": {
    "execution": {
     "iopub.execute_input": "2022-07-02T13:22:09.453425Z",
     "iopub.status.busy": "2022-07-02T13:22:09.453425Z",
     "iopub.status.idle": "2022-07-02T13:22:09.641130Z",
     "shell.execute_reply": "2022-07-02T13:22:09.641130Z"
    }
   },
   "outputs": [],
   "source": [
    "import naive.type_library as tl"
   ]
  },
  {
   "cell_type": "code",
   "execution_count": 2,
   "id": "525b6453",
   "metadata": {
    "execution": {
     "iopub.execute_input": "2022-07-02T13:22:09.641130Z",
     "iopub.status.busy": "2022-07-02T13:22:09.641130Z",
     "iopub.status.idle": "2022-07-02T13:22:09.656879Z",
     "shell.execute_reply": "2022-07-02T13:22:09.656879Z"
    }
   },
   "outputs": [
    {
     "name": "stdout",
     "output_type": "stream",
     "text": [
      "∅\n"
     ]
    }
   ],
   "source": [
    "# If nothing is passed to the constructor, an empty set is returned:\n",
    "s = tl.FiniteSet()\n",
    "print(s)"
   ]
  },
  {
   "cell_type": "code",
   "execution_count": 3,
   "id": "18a983e3",
   "metadata": {
    "execution": {
     "iopub.execute_input": "2022-07-02T13:22:09.656879Z",
     "iopub.status.busy": "2022-07-02T13:22:09.656879Z",
     "iopub.status.idle": "2022-07-02T13:22:09.672385Z",
     "shell.execute_reply": "2022-07-02T13:22:09.672385Z"
    }
   },
   "outputs": [
    {
     "name": "stdout",
     "output_type": "stream",
     "text": [
      "{Boson, Euler, Platypus}\n"
     ]
    }
   ],
   "source": [
    "# Finite sets may be built from a series of string-equivalent objects:\n",
    "s = tl.FiniteSet(u'Platypus', 'Euler', 'Boson')\n",
    "print(s)"
   ]
  },
  {
   "cell_type": "code",
   "execution_count": 4,
   "id": "0c868500",
   "metadata": {
    "execution": {
     "iopub.execute_input": "2022-07-02T13:22:09.672385Z",
     "iopub.status.busy": "2022-07-02T13:22:09.672385Z",
     "iopub.status.idle": "2022-07-02T13:22:09.688122Z",
     "shell.execute_reply": "2022-07-02T13:22:09.688122Z"
    }
   },
   "outputs": [
    {
     "name": "stdout",
     "output_type": "stream",
     "text": [
      "{Boson, Euler, Platypus}\n"
     ]
    }
   ],
   "source": [
    "# ...or iterable objects:\n",
    "s = tl.FiniteSet(['Platypus', 'Euler', 'Boson'])\n",
    "print(s)"
   ]
  },
  {
   "cell_type": "code",
   "execution_count": 5,
   "id": "66553a5d",
   "metadata": {
    "execution": {
     "iopub.execute_input": "2022-07-02T13:22:09.688122Z",
     "iopub.status.busy": "2022-07-02T13:22:09.688122Z",
     "iopub.status.idle": "2022-07-02T13:22:09.703738Z",
     "shell.execute_reply": "2022-07-02T13:22:09.703738Z"
    }
   },
   "outputs": [
    {
     "name": "stdout",
     "output_type": "stream",
     "text": [
      "{FS, FiniteSet}\n"
     ]
    }
   ],
   "source": [
    "# FS is shorthand for FiniteSet:\n",
    "s = tl.FS(u'FS', 'FiniteSet')\n",
    "print(s)"
   ]
  },
  {
   "cell_type": "code",
   "execution_count": 6,
   "id": "f1ab19b5",
   "metadata": {
    "execution": {
     "iopub.execute_input": "2022-07-02T13:22:09.703738Z",
     "iopub.status.busy": "2022-07-02T13:22:09.703738Z",
     "iopub.status.idle": "2022-07-02T13:22:09.719646Z",
     "shell.execute_reply": "2022-07-02T13:22:09.719646Z"
    }
   },
   "outputs": [
    {
     "name": "stdout",
     "output_type": "stream",
     "text": [
      "{a, b, c, f, g, h}\n"
     ]
    }
   ],
   "source": [
    "# Mathematical sets are unordered by definition,\n",
    "# but naive implementation is automatically ordered:\n",
    "s = tl.FiniteSet('h', 'g', 'b', 'a', 'c', 'f', 'g')\n",
    "print(s)\n",
    "# The reason for this design choice are:\n",
    "#  1) readability,\n",
    "#  2) compatibility with incidence vectors."
   ]
  },
  {
   "cell_type": "code",
   "execution_count": 7,
   "id": "e09dfd23",
   "metadata": {
    "execution": {
     "iopub.execute_input": "2022-07-02T13:22:09.719646Z",
     "iopub.status.busy": "2022-07-02T13:22:09.719646Z",
     "iopub.status.idle": "2022-07-02T13:22:09.735084Z",
     "shell.execute_reply": "2022-07-02T13:22:09.735084Z"
    }
   },
   "outputs": [
    {
     "name": "stdout",
     "output_type": "stream",
     "text": [
      "{a, b, c, d, e, f}\n"
     ]
    }
   ],
   "source": [
    "# The constructor is adaptive and flattens whatever input it gets:\n",
    "s = tl.FS('a', 'b', 'c', ['d', 'e', ['f']])\n",
    "print(s)"
   ]
  },
  {
   "cell_type": "code",
   "execution_count": 8,
   "id": "039b4e0f",
   "metadata": {
    "execution": {
     "iopub.execute_input": "2022-07-02T13:22:09.735084Z",
     "iopub.status.busy": "2022-07-02T13:22:09.735084Z",
     "iopub.status.idle": "2022-07-02T13:22:09.750993Z",
     "shell.execute_reply": "2022-07-02T13:22:09.750993Z"
    }
   },
   "outputs": [
    {
     "name": "stdout",
     "output_type": "stream",
     "text": [
      "{e₁, e₂, e₃, e₄, e₅}\n"
     ]
    }
   ],
   "source": [
    "# The size shortcut helps create sets of canonically named elements:\n",
    "s = tl.FS(size=5)\n",
    "print(s)"
   ]
  },
  {
   "cell_type": "code",
   "execution_count": 9,
   "id": "6ae123bc",
   "metadata": {
    "execution": {
     "iopub.execute_input": "2022-07-02T13:22:09.750993Z",
     "iopub.status.busy": "2022-07-02T13:22:09.750993Z",
     "iopub.status.idle": "2022-07-02T13:22:09.766506Z",
     "shell.execute_reply": "2022-07-02T13:22:09.766506Z"
    }
   },
   "outputs": [
    {
     "name": "stdout",
     "output_type": "stream",
     "text": [
      "{x₁, x₂, x₃}\n"
     ]
    }
   ],
   "source": [
    "# ...with a custom prefix:\n",
    "s = tl.FS(size=3, prefix='x')\n",
    "print(s)"
   ]
  },
  {
   "cell_type": "code",
   "execution_count": 10,
   "id": "50690c21",
   "metadata": {
    "execution": {
     "iopub.execute_input": "2022-07-02T13:22:09.766506Z",
     "iopub.status.busy": "2022-07-02T13:22:09.766506Z",
     "iopub.status.idle": "2022-07-02T13:22:09.797688Z",
     "shell.execute_reply": "2022-07-02T13:22:09.797688Z"
    }
   },
   "outputs": [
    {
     "name": "stdout",
     "output_type": "stream",
     "text": [
      "{y₀, y₁, y₂}\n"
     ]
    }
   ],
   "source": [
    "# ...0-based index:\n",
    "s = tl.FS(size=3, prefix='y', init=0)\n",
    "print(s)"
   ]
  },
  {
   "cell_type": "code",
   "execution_count": 11,
   "id": "9cb62bc0",
   "metadata": {
    "execution": {
     "iopub.execute_input": "2022-07-02T13:22:09.797688Z",
     "iopub.status.busy": "2022-07-02T13:22:09.797688Z",
     "iopub.status.idle": "2022-07-02T13:22:09.812890Z",
     "shell.execute_reply": "2022-07-02T13:22:09.812890Z"
    }
   },
   "outputs": [
    {
     "name": "stdout",
     "output_type": "stream",
     "text": [
      "{hackthelist}\n"
     ]
    }
   ],
   "source": [
    "# Note that spaces (\" \") and commas (\",\") are forbidden in element names to avoid ambiguity:\n",
    "s = tl.FS('hack, the, list')\n",
    "print(s)"
   ]
  },
  {
   "cell_type": "code",
   "execution_count": 12,
   "id": "ff200b8f",
   "metadata": {
    "execution": {
     "iopub.execute_input": "2022-07-02T13:22:09.812890Z",
     "iopub.status.busy": "2022-07-02T13:22:09.812890Z",
     "iopub.status.idle": "2022-07-02T13:22:09.828884Z",
     "shell.execute_reply": "2022-07-02T13:22:09.828884Z"
    }
   },
   "outputs": [
    {
     "name": "stdout",
     "output_type": "stream",
     "text": [
      "{y₀₁, y₀₂, y₀₃, y₀₄, y₀₅, y₀₆, y₀₇, y₀₈, y₀₉, y₁₀, y₁₁, y₁₂}\n"
     ]
    }
   ],
   "source": [
    "# Note that indexes are voluntarily padded for easier alphanumeric ordering:\n",
    "s = tl.FS(size=12, prefix='y', init=1)\n",
    "print(s)"
   ]
  }
 ],
 "metadata": {
  "kernelspec": {
   "display_name": "Python 3 (ipykernel)",
   "language": "python",
   "name": "python3"
  },
  "language_info": {
   "codemirror_mode": {
    "name": "ipython",
    "version": 3
   },
   "file_extension": ".py",
   "mimetype": "text/x-python",
   "name": "python",
   "nbconvert_exporter": "python",
   "pygments_lexer": "ipython3",
   "version": "3.10.5"
  }
 },
 "nbformat": 4,
 "nbformat_minor": 5
}