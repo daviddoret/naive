{
 "cells": [
  {
   "cell_type": "code",
   "execution_count": 1,
   "id": "052efc72",
   "metadata": {
    "execution": {
     "iopub.execute_input": "2022-07-02T13:57:36.599448Z",
     "iopub.status.busy": "2022-07-02T13:57:36.599448Z",
     "iopub.status.idle": "2022-07-02T13:57:36.807405Z",
     "shell.execute_reply": "2022-07-02T13:57:36.807405Z"
    }
   },
   "outputs": [],
   "source": [
    "import naive.type_library as tl"
   ]
  },
  {
   "cell_type": "code",
   "execution_count": 2,
   "id": "c9a253c6",
   "metadata": {
    "execution": {
     "iopub.execute_input": "2022-07-02T13:57:36.807405Z",
     "iopub.status.busy": "2022-07-02T13:57:36.807405Z",
     "iopub.status.idle": "2022-07-02T13:57:36.822982Z",
     "shell.execute_reply": "2022-07-02T13:57:36.822982Z"
    }
   },
   "outputs": [
    {
     "name": "stdout",
     "output_type": "stream",
     "text": [
      "∅\n"
     ]
    }
   ],
   "source": [
    "# If nothing is passed to the constructor, an empty set is returned:\n",
    "s = tl.FiniteSet()\n",
    "print(s)"
   ]
  },
  {
   "cell_type": "code",
   "execution_count": 3,
   "id": "814d7356",
   "metadata": {
    "execution": {
     "iopub.execute_input": "2022-07-02T13:57:36.822982Z",
     "iopub.status.busy": "2022-07-02T13:57:36.822982Z",
     "iopub.status.idle": "2022-07-02T13:57:36.838489Z",
     "shell.execute_reply": "2022-07-02T13:57:36.838489Z"
    }
   },
   "outputs": [
    {
     "name": "stdout",
     "output_type": "stream",
     "text": [
      "{Boson, Euler, Platypus}\n"
     ]
    }
   ],
   "source": [
    "# Finite sets may be built from a series of string-equivalent objects:\n",
    "s = tl.FiniteSet(u'Platypus', 'Euler', 'Boson')\n",
    "print(s)"
   ]
  },
  {
   "cell_type": "code",
   "execution_count": 4,
   "id": "7802ae7c",
   "metadata": {
    "execution": {
     "iopub.execute_input": "2022-07-02T13:57:36.838489Z",
     "iopub.status.busy": "2022-07-02T13:57:36.838489Z",
     "iopub.status.idle": "2022-07-02T13:57:36.853910Z",
     "shell.execute_reply": "2022-07-02T13:57:36.853910Z"
    }
   },
   "outputs": [
    {
     "name": "stdout",
     "output_type": "stream",
     "text": [
      "{Boson, Euler, Platypus}\n"
     ]
    }
   ],
   "source": [
    "# ...or iterable objects:\n",
    "s = tl.FiniteSet(['Platypus', 'Euler', 'Boson'])\n",
    "print(s)"
   ]
  },
  {
   "cell_type": "code",
   "execution_count": 5,
   "id": "768e93a5",
   "metadata": {
    "execution": {
     "iopub.execute_input": "2022-07-02T13:57:36.853910Z",
     "iopub.status.busy": "2022-07-02T13:57:36.853910Z",
     "iopub.status.idle": "2022-07-02T13:57:36.869857Z",
     "shell.execute_reply": "2022-07-02T13:57:36.869857Z"
    }
   },
   "outputs": [
    {
     "name": "stdout",
     "output_type": "stream",
     "text": [
      "{FS, FiniteSet}\n"
     ]
    }
   ],
   "source": [
    "# FS is shorthand for FiniteSet:\n",
    "s = tl.FS(u'FS', 'FiniteSet')\n",
    "print(s)"
   ]
  },
  {
   "cell_type": "code",
   "execution_count": 6,
   "id": "c96c691f",
   "metadata": {
    "execution": {
     "iopub.execute_input": "2022-07-02T13:57:36.869857Z",
     "iopub.status.busy": "2022-07-02T13:57:36.869857Z",
     "iopub.status.idle": "2022-07-02T13:57:36.885491Z",
     "shell.execute_reply": "2022-07-02T13:57:36.885491Z"
    }
   },
   "outputs": [
    {
     "name": "stdout",
     "output_type": "stream",
     "text": [
      "{a, b, c, f, g, h}\n"
     ]
    }
   ],
   "source": [
    "# Mathematical sets are unordered by definition,\n",
    "# but naive implementation is automatically ordered:\n",
    "s = tl.FiniteSet('h', 'g', 'b', 'a', 'c', 'f', 'g')\n",
    "print(s)\n",
    "# The reason for this design choice are:\n",
    "#  1) readability,\n",
    "#  2) compatibility with incidence vectors."
   ]
  },
  {
   "cell_type": "code",
   "execution_count": 7,
   "id": "74627988",
   "metadata": {
    "execution": {
     "iopub.execute_input": "2022-07-02T13:57:36.885491Z",
     "iopub.status.busy": "2022-07-02T13:57:36.885491Z",
     "iopub.status.idle": "2022-07-02T13:57:36.901107Z",
     "shell.execute_reply": "2022-07-02T13:57:36.901107Z"
    }
   },
   "outputs": [
    {
     "name": "stdout",
     "output_type": "stream",
     "text": [
      "{a, b, c, d, e, f}\n"
     ]
    }
   ],
   "source": [
    "# The constructor is adaptive and flattens whatever input it gets:\n",
    "s = tl.FS('a', 'b', 'c', ['d', 'e', ['f']])\n",
    "print(s)"
   ]
  },
  {
   "cell_type": "code",
   "execution_count": 8,
   "id": "cd189fbd",
   "metadata": {
    "execution": {
     "iopub.execute_input": "2022-07-02T13:57:36.901107Z",
     "iopub.status.busy": "2022-07-02T13:57:36.901107Z",
     "iopub.status.idle": "2022-07-02T13:57:36.916735Z",
     "shell.execute_reply": "2022-07-02T13:57:36.916735Z"
    }
   },
   "outputs": [
    {
     "name": "stdout",
     "output_type": "stream",
     "text": [
      "{e₁, e₂, e₃, e₄, e₅}\n"
     ]
    }
   ],
   "source": [
    "# The size shortcut helps create sets of canonically named elements:\n",
    "s = tl.FS(size=5)\n",
    "print(s)"
   ]
  },
  {
   "cell_type": "code",
   "execution_count": 9,
   "id": "819b49e3",
   "metadata": {
    "execution": {
     "iopub.execute_input": "2022-07-02T13:57:36.916735Z",
     "iopub.status.busy": "2022-07-02T13:57:36.916735Z",
     "iopub.status.idle": "2022-07-02T13:57:36.932382Z",
     "shell.execute_reply": "2022-07-02T13:57:36.932382Z"
    }
   },
   "outputs": [
    {
     "name": "stdout",
     "output_type": "stream",
     "text": [
      "{x₁, x₂, x₃}\n"
     ]
    }
   ],
   "source": [
    "# ...with a custom prefix:\n",
    "s = tl.FS(size=3, prefix='x')\n",
    "print(s)"
   ]
  },
  {
   "cell_type": "code",
   "execution_count": 10,
   "id": "ed2d2ac1",
   "metadata": {
    "execution": {
     "iopub.execute_input": "2022-07-02T13:57:36.932382Z",
     "iopub.status.busy": "2022-07-02T13:57:36.932382Z",
     "iopub.status.idle": "2022-07-02T13:57:36.948029Z",
     "shell.execute_reply": "2022-07-02T13:57:36.948029Z"
    }
   },
   "outputs": [
    {
     "name": "stdout",
     "output_type": "stream",
     "text": [
      "{y₀, y₁, y₂}\n"
     ]
    }
   ],
   "source": [
    "# ...0-based index:\n",
    "s = tl.FS(size=3, prefix='y', init=0)\n",
    "print(s)"
   ]
  },
  {
   "cell_type": "code",
   "execution_count": 11,
   "id": "f6d66198",
   "metadata": {
    "execution": {
     "iopub.execute_input": "2022-07-02T13:57:36.948029Z",
     "iopub.status.busy": "2022-07-02T13:57:36.948029Z",
     "iopub.status.idle": "2022-07-02T13:57:36.963827Z",
     "shell.execute_reply": "2022-07-02T13:57:36.963827Z"
    }
   },
   "outputs": [
    {
     "name": "stdout",
     "output_type": "stream",
     "text": [
      "{hackthelist}\n"
     ]
    }
   ],
   "source": [
    "# Note that spaces (\" \") and commas (\",\") are forbidden in element names to avoid ambiguity:\n",
    "s = tl.FS('hack, the, list')\n",
    "print(s)"
   ]
  },
  {
   "cell_type": "code",
   "execution_count": 12,
   "id": "06add986",
   "metadata": {
    "execution": {
     "iopub.execute_input": "2022-07-02T13:57:36.963827Z",
     "iopub.status.busy": "2022-07-02T13:57:36.963827Z",
     "iopub.status.idle": "2022-07-02T13:57:36.979016Z",
     "shell.execute_reply": "2022-07-02T13:57:36.979016Z"
    }
   },
   "outputs": [
    {
     "name": "stdout",
     "output_type": "stream",
     "text": [
      "{y₀₁, y₀₂, y₀₃, y₀₄, y₀₅, y₀₆, y₀₇, y₀₈, y₀₉, y₁₀, y₁₁, y₁₂}\n"
     ]
    }
   ],
   "source": [
    "# Note that indexes are voluntarily padded for easier alphanumeric ordering:\n",
    "s = tl.FS(size=12, prefix='y', init=1)\n",
    "print(s)"
   ]
  }
 ],
 "metadata": {
  "kernelspec": {
   "display_name": "Python 3 (ipykernel)",
   "language": "python",
   "name": "python3"
  },
  "language_info": {
   "codemirror_mode": {
    "name": "ipython",
    "version": 3
   },
   "file_extension": ".py",
   "mimetype": "text/x-python",
   "name": "python",
   "nbconvert_exporter": "python",
   "pygments_lexer": "ipython3",
   "version": "3.10.5"
  }
 },
 "nbformat": 4,
 "nbformat_minor": 5
}