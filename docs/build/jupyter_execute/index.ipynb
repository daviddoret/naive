{
 "cells": [
  {
   "cell_type": "code",
   "execution_count": 1,
   "id": "eef9aa11",
   "metadata": {
    "execution": {
     "iopub.execute_input": "2022-06-30T21:57:51.379125Z",
     "iopub.status.busy": "2022-06-30T21:57:51.379125Z",
     "iopub.status.idle": "2022-06-30T21:57:51.566724Z",
     "shell.execute_reply": "2022-06-30T21:57:51.566724Z"
    }
   },
   "outputs": [
    {
     "name": "stdout",
     "output_type": "stream",
     "text": [
      "sys.path: ['C:\\\\Users\\\\david\\\\PycharmProjects\\\\naive\\\\docs', 'C:\\\\Users\\\\david\\\\PycharmProjects\\\\naive:', 'C:\\\\Program Files\\\\Python310\\\\python310.zip', 'C:\\\\Program Files\\\\Python310\\\\DLLs', 'C:\\\\Program Files\\\\Python310\\\\lib', 'C:\\\\Program Files\\\\Python310', 'C:\\\\Users\\\\david\\\\PycharmProjects\\\\naive\\\\venv', '', 'C:\\\\Users\\\\david\\\\PycharmProjects\\\\naive\\\\venv\\\\lib\\\\site-packages', 'C:\\\\Users\\\\david\\\\PycharmProjects\\\\naive\\\\venv\\\\lib\\\\site-packages\\\\win32', 'C:\\\\Users\\\\david\\\\PycharmProjects\\\\naive\\\\venv\\\\lib\\\\site-packages\\\\win32\\\\lib', 'C:\\\\Users\\\\david\\\\PycharmProjects\\\\naive\\\\venv\\\\lib\\\\site-packages\\\\Pythonwin']\n",
      "os.getcwd(): C:\\Users\\david\\PycharmProjects\\naive\n",
      "hello ∅ world\n"
     ]
    }
   ],
   "source": [
    "import sys\n",
    "import os\n",
    "os.chdir('C:\\\\Users\\\\david\\\\PycharmProjects\\\\naive')\n",
    "#os.chdir('C:/Users/david/PycharmProjects/naive')\n",
    "#o = tl.Element('hello')\n",
    "#print(o)\n",
    "print(f'sys.path: {sys.path}')\n",
    "print(f'os.getcwd(): {os.getcwd()}')\n",
    "print('hello ∅ world')\n",
    "import naive.type_library as tl"
   ]
  }
 ],
 "metadata": {
  "kernelspec": {
   "display_name": "Python 3 (ipykernel)",
   "language": "python",
   "name": "python3"
  },
  "language_info": {
   "codemirror_mode": {
    "name": "ipython",
    "version": 3
   },
   "file_extension": ".py",
   "mimetype": "text/x-python",
   "name": "python",
   "nbconvert_exporter": "python",
   "pygments_lexer": "ipython3",
   "version": "3.10.5"
  }
 },
 "nbformat": 4,
 "nbformat_minor": 5
}