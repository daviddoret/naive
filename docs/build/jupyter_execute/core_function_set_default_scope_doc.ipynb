{
 "cells": [
  {
   "cell_type": "code",
   "execution_count": 1,
   "id": "b57b692b",
   "metadata": {
    "execution": {
     "iopub.execute_input": "2022-07-24T21:26:01.189331Z",
     "iopub.status.busy": "2022-07-24T21:26:01.187330Z",
     "iopub.status.idle": "2022-07-24T21:26:01.223899Z",
     "shell.execute_reply": "2022-07-24T21:26:01.223172Z"
    }
   },
   "outputs": [
    {
     "ename": "SyntaxError",
     "evalue": "unterminated string literal (detected at line 5) (4171270215.py, line 5)",
     "output_type": "error",
     "traceback": [
      "\u001b[1;36m  Input \u001b[1;32mIn [1]\u001b[1;36m\u001b[0m\n\u001b[1;33m    print('Do something...\u001b[0m\n\u001b[1;37m          ^\u001b[0m\n\u001b[1;31mSyntaxError\u001b[0m\u001b[1;31m:\u001b[0m unterminated string literal (detected at line 5)\n"
     ]
    }
   ],
   "source": [
    "initial_scope = naive.get_default_scope()\n",
    "print(f'The initial scope was: \"{initial_scope}\"')\n",
    "\n",
    "naive.set_default_scope('my_scope')\n",
    "print('Do something..."
   ]
  }
 ],
 "metadata": {
  "kernelspec": {
   "display_name": "Python 3 (ipykernel)",
   "language": "python",
   "name": "python3"
  },
  "language_info": {
   "codemirror_mode": {
    "name": "ipython",
    "version": 3
   },
   "file_extension": ".py",
   "mimetype": "text/x-python",
   "name": "python",
   "nbconvert_exporter": "python",
   "pygments_lexer": "ipython3",
   "version": "3.10.5"
  }
 },
 "nbformat": 4,
 "nbformat_minor": 5
}