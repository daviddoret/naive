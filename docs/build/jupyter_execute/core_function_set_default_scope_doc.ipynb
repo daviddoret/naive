{
 "cells": [
  {
   "cell_type": "code",
   "execution_count": 1,
   "id": "294d64cd",
   "metadata": {
    "execution": {
     "iopub.execute_input": "2022-07-24T12:31:32.246781Z",
     "iopub.status.busy": "2022-07-24T12:31:32.246781Z",
     "iopub.status.idle": "2022-07-24T12:31:32.729408Z",
     "shell.execute_reply": "2022-07-24T12:31:32.729408Z"
    }
   },
   "outputs": [
    {
     "ename": "NameError",
     "evalue": "name 'naive' is not defined",
     "output_type": "error",
     "traceback": [
      "\u001b[1;31m---------------------------------------------------------------------------\u001b[0m",
      "\u001b[1;31mNameError\u001b[0m                                 Traceback (most recent call last)",
      "Input \u001b[1;32mIn [1]\u001b[0m, in \u001b[0;36m<cell line: 1>\u001b[1;34m()\u001b[0m\n\u001b[1;32m----> 1\u001b[0m initial_scope \u001b[38;5;241m=\u001b[39m \u001b[43mnaive\u001b[49m\u001b[38;5;241m.\u001b[39mcore\u001b[38;5;241m.\u001b[39mget_default_scope()\n\u001b[0;32m      2\u001b[0m \u001b[38;5;28mprint\u001b[39m(\u001b[38;5;124mf\u001b[39m\u001b[38;5;124m'\u001b[39m\u001b[38;5;124mThe initial scope was: \u001b[39m\u001b[38;5;132;01m{\u001b[39;00minitial_scope\u001b[38;5;132;01m}\u001b[39;00m\u001b[38;5;124m'\u001b[39m)\n\u001b[0;32m      4\u001b[0m naive\u001b[38;5;241m.\u001b[39mcore\u001b[38;5;241m.\u001b[39mset_default_scope(\u001b[38;5;124m'\u001b[39m\u001b[38;5;124mmy_scope\u001b[39m\u001b[38;5;124m'\u001b[39m)\n",
      "\u001b[1;31mNameError\u001b[0m: name 'naive' is not defined"
     ]
    }
   ],
   "source": [
    "initial_scope = naive.core.get_default_scope()\n",
    "print(f'The initial scope was: {initial_scope}')\n",
    "\n",
    "naive.core.set_default_scope('my_scope')\n",
    "print('Do something...')\n",
    "\n",
    "naive.core.set_default_scope('another_scope')\n",
    "print('Do something...')\n",
    "\n",
    "naive.core.set_default_scope(initial_scope)\n",
    "print('Do something...')"
   ]
  }
 ],
 "metadata": {
  "kernelspec": {
   "display_name": "Python 3 (ipykernel)",
   "language": "python",
   "name": "python3"
  },
  "language_info": {
   "codemirror_mode": {
    "name": "ipython",
    "version": 3
   },
   "file_extension": ".py",
   "mimetype": "text/x-python",
   "name": "python",
   "nbconvert_exporter": "python",
   "pygments_lexer": "ipython3",
   "version": "3.10.5"
  }
 },
 "nbformat": 4,
 "nbformat_minor": 5
}