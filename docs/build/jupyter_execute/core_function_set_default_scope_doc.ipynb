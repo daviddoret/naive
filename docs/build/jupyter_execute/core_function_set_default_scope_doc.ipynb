{
 "cells": [
  {
   "cell_type": "code",
   "execution_count": 1,
   "id": "92e8c4a7",
   "metadata": {
    "execution": {
     "iopub.execute_input": "2022-07-24T10:29:41.376040Z",
     "iopub.status.busy": "2022-07-24T10:29:41.374069Z",
     "iopub.status.idle": "2022-07-24T10:29:41.495062Z",
     "shell.execute_reply": "2022-07-24T10:29:41.494351Z"
    }
   },
   "outputs": [
    {
     "name": "stderr",
     "output_type": "stream",
     "text": [
      "Default scope_key: scope_1 \n"
     ]
    },
    {
     "name": "stderr",
     "output_type": "stream",
     "text": [
      "Default scope_key: my_scope \n"
     ]
    },
    {
     "name": "stderr",
     "output_type": "stream",
     "text": [
      "Default scope_key: another_scope \n"
     ]
    },
    {
     "name": "stdout",
     "output_type": "stream",
     "text": [
      "hello world!\n"
     ]
    }
   ],
   "source": [
    "import naive\n",
    "name = 'world'\n",
    "print('hello ' + name + '!')\n",
    "naive.core.set_default_scope('my_scope')\n",
    "naive.core.set_default_scope('another_scope')"
   ]
  }
 ],
 "metadata": {
  "kernelspec": {
   "display_name": "Python 3 (ipykernel)",
   "language": "python",
   "name": "python3"
  },
  "language_info": {
   "codemirror_mode": {
    "name": "ipython",
    "version": 3
   },
   "file_extension": ".py",
   "mimetype": "text/x-python",
   "name": "python",
   "nbconvert_exporter": "python",
   "pygments_lexer": "ipython3",
   "version": "3.10.5"
  }
 },
 "nbformat": 4,
 "nbformat_minor": 5
}