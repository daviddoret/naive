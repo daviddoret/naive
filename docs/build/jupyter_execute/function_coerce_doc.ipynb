{
 "cells": [
  {
   "cell_type": "code",
   "execution_count": 1,
   "id": "dd3397db",
   "metadata": {
    "execution": {
     "iopub.execute_input": "2022-07-11T21:26:48.625922Z",
     "iopub.status.busy": "2022-07-11T21:26:48.623919Z",
     "iopub.status.idle": "2022-07-11T21:26:48.645924Z",
     "shell.execute_reply": "2022-07-11T21:26:48.644962Z"
    }
   },
   "outputs": [
    {
     "name": "stdout",
     "output_type": "stream",
     "text": [
      "5\n"
     ]
    }
   ],
   "source": [
    "# import naive\n",
    "n = \"5\"\n",
    "print(n)\n",
    "#n_prime = naive.coerce(n, naive.NN0)\n",
    "#print(type(n_prime))\n",
    "#print(n_prime)"
   ]
  }
 ],
 "metadata": {
  "kernelspec": {
   "display_name": "Python 3 (ipykernel)",
   "language": "python",
   "name": "python3"
  },
  "language_info": {
   "codemirror_mode": {
    "name": "ipython",
    "version": 3
   },
   "file_extension": ".py",
   "mimetype": "text/x-python",
   "name": "python",
   "nbconvert_exporter": "python",
   "pygments_lexer": "ipython3",
   "version": "3.10.5"
  }
 },
 "nbformat": 4,
 "nbformat_minor": 5
}