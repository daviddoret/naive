{
 "cells": [
  {
   "cell_type": "code",
   "execution_count": 1,
   "id": "bef5ddae",
   "metadata": {
    "execution": {
     "iopub.execute_input": "2022-07-24T21:26:04.468650Z",
     "iopub.status.busy": "2022-07-24T21:26:04.468650Z",
     "iopub.status.idle": "2022-07-24T21:26:21.023395Z",
     "shell.execute_reply": "2022-07-24T21:26:21.023395Z"
    }
   },
   "outputs": [
    {
     "name": "stdout",
     "output_type": "stream",
     "text": [
      "Collecting https://github.com/daviddoret/naive/raw/master/dist/naive-latest.tar.gz\n",
      "  Downloading https://github.com/daviddoret/naive/raw/master/dist/naive-latest.tar.gz (21 kB)\n",
      "  Installing build dependencies: started\n",
      "  Installing build dependencies: finished with status 'done'\n",
      "  Getting requirements to build wheel: started\n",
      "  Getting requirements to build wheel: finished with status 'done'\n",
      "  Installing backend dependencies: started\n",
      "  Installing backend dependencies: finished with status 'done'\n",
      "  Preparing metadata (pyproject.toml): started\n",
      "  Preparing metadata (pyproject.toml): finished with status 'done'\n",
      "Requirement already satisfied: textx in c:\\users\\david\\pycharmprojects\\naive\\naive_virtual_environment\\lib\\site-packages (from naive==0.0.3) (3.0.0)\n",
      "Requirement already satisfied: typing in c:\\users\\david\\pycharmprojects\\naive\\naive_virtual_environment\\lib\\site-packages (from naive==0.0.3) (3.7.4.3)\n",
      "Requirement already satisfied: dataclasses in c:\\users\\david\\pycharmprojects\\naive\\naive_virtual_environment\\lib\\site-packages (from naive==0.0.3) (0.6)\n",
      "Requirement already satisfied: future in c:\\users\\david\\pycharmprojects\\naive\\naive_virtual_environment\\lib\\site-packages (from textx->naive==0.0.3) (0.18.2)\n",
      "Requirement already satisfied: Arpeggio>=2.0.0 in c:\\users\\david\\pycharmprojects\\naive\\naive_virtual_environment\\lib\\site-packages (from textx->naive==0.0.3) (2.0.0)\n",
      "Building wheels for collected packages: naive\n",
      "  Building wheel for naive (pyproject.toml): started\n",
      "  Building wheel for naive (pyproject.toml): finished with status 'done'\n",
      "  Created wheel for naive: filename=naive-0.0.3-py3-none-any.whl size=26881 sha256=6623fd7f854cfa7ea3cc6c84aaba4f3963c2d4d22dc2068ac3f9b93b6328beb7\n",
      "  Stored in directory: c:\\users\\david\\appdata\\local\\pip\\cache\\wheels\\5c\\ce\\ef\\cf31aa572bf3fea13e37baa95720e16088c5abf775de112543\n",
      "Successfully built naive\n",
      "Installing collected packages: naive\n",
      "Successfully installed naive-0.0.3\n"
     ]
    }
   ],
   "source": [
    "!pip install https://github.com/daviddoret/naive/raw/master/dist/naive-latest.tar.gz"
   ]
  },
  {
   "cell_type": "code",
   "execution_count": 2,
   "id": "538b792a",
   "metadata": {
    "execution": {
     "iopub.execute_input": "2022-07-24T21:26:21.023395Z",
     "iopub.status.busy": "2022-07-24T21:26:21.023395Z",
     "iopub.status.idle": "2022-07-24T21:26:22.188687Z",
     "shell.execute_reply": "2022-07-24T21:26:22.188687Z"
    }
   },
   "outputs": [
    {
     "name": "stdout",
     "output_type": "stream",
     "text": [
      "Naive initialization started. \n",
      "Naive version: 0.0.3 \n"
     ]
    },
    {
     "ename": "ModuleNotFoundError",
     "evalue": "No module named 'rformats'",
     "output_type": "error",
     "traceback": [
      "\u001b[1;31m---------------------------------------------------------------------------\u001b[0m",
      "\u001b[1;31mModuleNotFoundError\u001b[0m                       Traceback (most recent call last)",
      "Input \u001b[1;32mIn [2]\u001b[0m, in \u001b[0;36m<cell line: 1>\u001b[1;34m()\u001b[0m\n\u001b[1;32m----> 1\u001b[0m \u001b[38;5;28;01mimport\u001b[39;00m \u001b[38;5;21;01mnaive\u001b[39;00m\n",
      "File \u001b[1;32m~\\PycharmProjects\\naive\\naive_virtual_environment\\lib\\site-packages\\naive\\__init__.py:12\u001b[0m, in \u001b[0;36m<module>\u001b[1;34m\u001b[0m\n\u001b[0;32m      9\u001b[0m     __version__ \u001b[38;5;241m=\u001b[39m \u001b[38;5;124m'\u001b[39m\u001b[38;5;124m0.0.3\u001b[39m\u001b[38;5;124m'\u001b[39m  \u001b[38;5;66;03m# Initial version for the first build.\u001b[39;00m\n\u001b[0;32m     10\u001b[0m naive\u001b[38;5;241m.\u001b[39mlog\u001b[38;5;241m.\u001b[39minfo(\u001b[38;5;124mf\u001b[39m\u001b[38;5;124m'\u001b[39m\u001b[38;5;124mNaive version: \u001b[39m\u001b[38;5;132;01m{\u001b[39;00m__version__\u001b[38;5;132;01m}\u001b[39;00m\u001b[38;5;124m'\u001b[39m)\n\u001b[1;32m---> 12\u001b[0m \u001b[38;5;28;01mimport\u001b[39;00m \u001b[38;5;21;01mnaive\u001b[39;00m\u001b[38;5;21;01m.\u001b[39;00m\u001b[38;5;21;01mcore\u001b[39;00m\n\u001b[0;32m     13\u001b[0m \u001b[38;5;28;01mimport\u001b[39;00m \u001b[38;5;21;01mnaive\u001b[39;00m\u001b[38;5;21;01m.\u001b[39;00m\u001b[38;5;21;01mba1\u001b[39;00m\n\u001b[0;32m     14\u001b[0m \u001b[38;5;28;01mimport\u001b[39;00m \u001b[38;5;21;01mnaive\u001b[39;00m\u001b[38;5;21;01m.\u001b[39;00m\u001b[38;5;21;01mrformats\u001b[39;00m\n",
      "File \u001b[1;32m~\\PycharmProjects\\naive\\naive_virtual_environment\\lib\\site-packages\\naive\\core.py:15\u001b[0m, in \u001b[0;36m<module>\u001b[1;34m\u001b[0m\n\u001b[0;32m     12\u001b[0m \u001b[38;5;28;01mimport\u001b[39;00m \u001b[38;5;21;01mnaive\u001b[39;00m\u001b[38;5;21;01m.\u001b[39;00m\u001b[38;5;21;01mrformats\u001b[39;00m\n\u001b[0;32m     13\u001b[0m \u001b[38;5;28;01mimport\u001b[39;00m \u001b[38;5;21;01mnaive\u001b[39;00m\u001b[38;5;21;01m.\u001b[39;00m\u001b[38;5;21;01mglyphs\u001b[39;00m\n\u001b[1;32m---> 15\u001b[0m \u001b[38;5;28;01mimport\u001b[39;00m \u001b[38;5;21;01mrformats\u001b[39;00m\n\u001b[0;32m     17\u001b[0m _BASE_KEY \u001b[38;5;241m=\u001b[39m \u001b[38;5;124m'\u001b[39m\u001b[38;5;124mbase_key\u001b[39m\u001b[38;5;124m'\u001b[39m\n\u001b[0;32m     18\u001b[0m _STRUCTURE_KEY \u001b[38;5;241m=\u001b[39m \u001b[38;5;124m'\u001b[39m\u001b[38;5;124mstructure_key\u001b[39m\u001b[38;5;124m'\u001b[39m\n",
      "\u001b[1;31mModuleNotFoundError\u001b[0m: No module named 'rformats'"
     ]
    }
   ],
   "source": [
    "import naive"
   ]
  }
 ],
 "metadata": {
  "kernelspec": {
   "display_name": "Python 3 (ipykernel)",
   "language": "python",
   "name": "python3"
  },
  "language_info": {
   "codemirror_mode": {
    "name": "ipython",
    "version": 3
   },
   "file_extension": ".py",
   "mimetype": "text/x-python",
   "name": "python",
   "nbconvert_exporter": "python",
   "pygments_lexer": "ipython3",
   "version": "3.10.5"
  }
 },
 "nbformat": 4,
 "nbformat_minor": 5
}