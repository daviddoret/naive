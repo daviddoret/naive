{
 "cells": [
  {
   "cell_type": "code",
   "execution_count": 1,
   "id": "8e98d033",
   "metadata": {
    "execution": {
     "iopub.execute_input": "2022-07-24T10:28:23.809162Z",
     "iopub.status.busy": "2022-07-24T10:28:23.807169Z",
     "iopub.status.idle": "2022-07-24T10:28:39.262841Z",
     "shell.execute_reply": "2022-07-24T10:28:39.259840Z"
    }
   },
   "outputs": [
    {
     "name": "stdout",
     "output_type": "stream",
     "text": [
      "Collecting https://github.com/daviddoret/naive/raw/master/dist/naive-latest.tar.gz\n",
      "  Using cached https://github.com/daviddoret/naive/raw/master/dist/naive-latest.tar.gz (21 kB)\n",
      "  Installing build dependencies: started\n",
      "  Installing build dependencies: finished with status 'done'\n",
      "  Getting requirements to build wheel: started\n",
      "  Getting requirements to build wheel: finished with status 'done'\n",
      "  Installing backend dependencies: started\n",
      "  Installing backend dependencies: finished with status 'done'\n",
      "  Preparing metadata (pyproject.toml): started\n",
      "  Preparing metadata (pyproject.toml): finished with status 'done'\n",
      "Requirement already satisfied: textx in c:\\users\\david\\pycharmprojects\\naive\\naive_virtual_environment\\lib\\site-packages (from naive==0.0.2) (3.0.0)\n",
      "Requirement already satisfied: dataclasses in c:\\users\\david\\pycharmprojects\\naive\\naive_virtual_environment\\lib\\site-packages (from naive==0.0.2) (0.6)\n",
      "Requirement already satisfied: typing in c:\\users\\david\\pycharmprojects\\naive\\naive_virtual_environment\\lib\\site-packages (from naive==0.0.2) (3.7.4.3)\n",
      "Requirement already satisfied: Arpeggio>=2.0.0 in c:\\users\\david\\pycharmprojects\\naive\\naive_virtual_environment\\lib\\site-packages (from textx->naive==0.0.2) (2.0.0)\n",
      "Requirement already satisfied: future in c:\\users\\david\\pycharmprojects\\naive\\naive_virtual_environment\\lib\\site-packages (from textx->naive==0.0.2) (0.18.2)\n"
     ]
    }
   ],
   "source": [
    "!pip install https://github.com/daviddoret/naive/raw/master/dist/naive-latest.tar.gz"
   ]
  },
  {
   "cell_type": "code",
   "execution_count": 2,
   "id": "43557a62",
   "metadata": {
    "execution": {
     "iopub.execute_input": "2022-07-24T10:28:39.276840Z",
     "iopub.status.busy": "2022-07-24T10:28:39.275840Z",
     "iopub.status.idle": "2022-07-24T10:28:39.370875Z",
     "shell.execute_reply": "2022-07-24T10:28:39.370122Z"
    }
   },
   "outputs": [
    {
     "name": "stderr",
     "output_type": "stream",
     "text": [
      "Default scope_key: scope_1 \n"
     ]
    }
   ],
   "source": [
    "import naive"
   ]
  }
 ],
 "metadata": {
  "kernelspec": {
   "display_name": "Python 3 (ipykernel)",
   "language": "python",
   "name": "python3"
  },
  "language_info": {
   "codemirror_mode": {
    "name": "ipython",
    "version": 3
   },
   "file_extension": ".py",
   "mimetype": "text/x-python",
   "name": "python",
   "nbconvert_exporter": "python",
   "pygments_lexer": "ipython3",
   "version": "3.10.5"
  }
 },
 "nbformat": 4,
 "nbformat_minor": 5
}