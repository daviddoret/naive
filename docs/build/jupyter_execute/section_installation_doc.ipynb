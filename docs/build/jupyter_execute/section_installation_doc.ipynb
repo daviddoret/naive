{
 "cells": [
  {
   "cell_type": "code",
   "execution_count": 1,
   "id": "31b104ed",
   "metadata": {
    "execution": {
     "iopub.execute_input": "2022-07-24T09:59:59.916688Z",
     "iopub.status.busy": "2022-07-24T09:59:59.915642Z",
     "iopub.status.idle": "2022-07-24T10:00:01.732217Z",
     "shell.execute_reply": "2022-07-24T10:00:01.730885Z"
    }
   },
   "outputs": [
    {
     "name": "stdout",
     "output_type": "stream",
     "text": [
      "Collecting https://github.com/daviddoret/naive/raw/master/dist/naive-latest.tar.gz\n"
     ]
    },
    {
     "name": "stderr",
     "output_type": "stream",
     "text": [
      "  ERROR: HTTP error 404 while getting https://github.com/daviddoret/naive/raw/master/dist/naive-latest.tar.gz\n",
      "ERROR: Could not install requirement https://github.com/daviddoret/naive/raw/master/dist/naive-latest.tar.gz because of HTTP error 404 Client Error: Not Found for url: https://github.com/daviddoret/naive/raw/master/dist/naive-latest.tar.gz for URL https://github.com/daviddoret/naive/raw/master/dist/naive-latest.tar.gz\n"
     ]
    }
   ],
   "source": [
    "!pip install https://github.com/daviddoret/naive/raw/master/dist/naive-latest.tar.gz"
   ]
  }
 ],
 "metadata": {
  "kernelspec": {
   "display_name": "Python 3 (ipykernel)",
   "language": "python",
   "name": "python3"
  },
  "language_info": {
   "codemirror_mode": {
    "name": "ipython",
    "version": 3
   },
   "file_extension": ".py",
   "mimetype": "text/x-python",
   "name": "python",
   "nbconvert_exporter": "python",
   "pygments_lexer": "ipython3",
   "version": "3.10.5"
  }
 },
 "nbformat": 4,
 "nbformat_minor": 5
}